{
 "cells": [
  {
   "cell_type": "markdown",
   "metadata": {},
   "source": [
    "# Day 15: Rambunctious Recitation\n",
    "\n",
    "You catch the airport shuttle and try to book a new flight to your vacation island. Due to the storm, all direct flights have been cancelled, but a route is available to get around the storm. You take it.\n",
    "\n",
    "While you wait for your flight, you decide to check in with the Elves back at the North Pole. They're playing a memory game and are ever so excited to explain the rules!\n",
    "\n",
    "In this game, the players take turns saying numbers. They begin by taking turns reading from a list of starting numbers (your puzzle input). Then, each turn consists of considering the most recently spoken number:\n",
    "\n",
    "If that was the first time the number has been spoken, the current player says 0.\n",
    "Otherwise, the number had been spoken before; the current player announces how many turns apart the number is from when it was previously spoken.\n",
    "So, after the starting numbers, each turn results in that player speaking aloud either 0 (if the last number is new) or an age (if the last number is a repeat).\n",
    "\n",
    "For example, suppose the starting numbers are 0,3,6:\n",
    "\n",
    "- Turn 1: The 1st number spoken is a starting number, 0.\n",
    "- Turn 2: The 2nd number spoken is a starting number, 3.\n",
    "- Turn 3: The 3rd number spoken is a starting number, 6.\n",
    "- Turn 4: Now, consider the last number spoken, 6. Since that was the first time the number had been spoken, the 4th number spoken is 0.\n",
    "- Turn 5: Next, again consider the last number spoken, 0. Since it had been spoken before, the next number to speak is the difference between the turn number when it was last spoken (the previous turn, 4) and the turn number of the time it was most recently spoken before then (turn 1). Thus, the 5th number spoken is 4 - 1, 3.\n",
    "- Turn 6: The last number spoken, 3 had also been spoken before, most recently on turns 5 and 2. So, the 6th number spoken is 5 - 2, 3.\n",
    "- Turn 7: Since 3 was just spoken twice in a row, and the last two turns are 1 turn apart, the 7th number spoken is 1.\n",
    "- Turn 8: Since 1 is new, the 8th number spoken is 0.\n",
    "- Turn 9: 0 was last spoken on turns 8 and 4, so the 9th number spoken is the difference between them, 4.\n",
    "- Turn 10: 4 is new, so the 10th number spoken is 0.\n",
    "\n",
    "(The game ends when the Elves get sick of playing or dinner is ready, whichever comes first.)\n",
    "\n",
    "Their question for you is: what will be the 2020th number spoken? In the example above, the 2020th number spoken will be 436.\n",
    "\n",
    "Here are a few more examples:\n",
    "\n",
    "- Given the starting numbers 1,3,2, the 2020th number spoken is 1.\n",
    "- Given the starting numbers 2,1,3, the 2020th number spoken is 10.\n",
    "- Given the starting numbers 1,2,3, the 2020th number spoken is 27.\n",
    "- Given the starting numbers 2,3,1, the 2020th number spoken is 78.\n",
    "- Given the starting numbers 3,2,1, the 2020th number spoken is 438.\n",
    "- Given the starting numbers 3,1,2, the 2020th number spoken is 1836.\n",
    "- Given your starting numbers, what will be the 2020th number spoken?"
   ]
  },
  {
   "cell_type": "code",
   "execution_count": 71,
   "metadata": {},
   "outputs": [],
   "source": [
    "input = [0, 14, 6, 20, 1, 4]"
   ]
  },
  {
   "cell_type": "code",
   "execution_count": 72,
   "metadata": {},
   "outputs": [
    {
     "name": "stdout",
     "output_type": "stream",
     "text": [
      "257\n"
     ]
    }
   ],
   "source": [
    "spoken_numbers = input.copy()\n",
    "\n",
    "def find(alist, value):\n",
    "    indices = []\n",
    "    list_len = len(alist)\n",
    "    \n",
    "    for i, x in enumerate(reversed(alist)):\n",
    "        if x == value:\n",
    "            indices.append(list_len - (i + 1))\n",
    "        if len(indices) == 2:\n",
    "            break\n",
    "    \n",
    "    return indices\n",
    "\n",
    "while len(spoken_numbers) < 2020:\n",
    "    last_spoken_number = spoken_numbers[-1]\n",
    "    spoken_indices = find(spoken_numbers, last_spoken_number)\n",
    "    if len(spoken_indices) >= 2:\n",
    "        spoken_numbers.append(spoken_indices[-2] - spoken_indices[-1])\n",
    "    else:\n",
    "        spoken_numbers.append(0)\n",
    "\n",
    "print(spoken_numbers[-1])"
   ]
  },
  {
   "cell_type": "markdown",
   "metadata": {},
   "source": [
    "# Part Two\n",
    "\n",
    "Impressed, the Elves issue you a challenge: determine the 30000000th number spoken. For example, given the same starting numbers as above:\n",
    "\n",
    "- Given 0,3,6, the 30000000th number spoken is 175594.\n",
    "- Given 1,3,2, the 30000000th number spoken is 2578.\n",
    "- Given 2,1,3, the 30000000th number spoken is 3544142.\n",
    "- Given 1,2,3, the 30000000th number spoken is 261214.\n",
    "- Given 2,3,1, the 30000000th number spoken is 6895259.\n",
    "- Given 3,2,1, the 30000000th number spoken is 18.\n",
    "- Given 3,1,2, the 30000000th number spoken is 362.\n",
    "\n",
    "Given your starting numbers, what will be the 30000000th number spoken?"
   ]
  },
  {
   "cell_type": "code",
   "execution_count": 73,
   "metadata": {},
   "outputs": [
    {
     "name": "stdout",
     "output_type": "stream",
     "text": [
      "8546398\n"
     ]
    }
   ],
   "source": [
    "spoken_numbers = input.copy()\n",
    "from collections import defaultdict, deque\n",
    "\n",
    "last_indices = defaultdict(lambda: deque(maxlen=2))\n",
    "\n",
    "for i, x in enumerate(spoken_numbers):\n",
    "    last_indices[x].append(i)\n",
    "\n",
    "for _ in range(30000000 - len(spoken_numbers)):\n",
    "    last_spoken_number = spoken_numbers[-1]\n",
    "    spoken_indices = last_indices[last_spoken_number]\n",
    "    if len(spoken_indices) >= 2:\n",
    "        spoken_numbers.append(spoken_indices[-1] - spoken_indices[-2])\n",
    "    else:\n",
    "        spoken_numbers.append(0)\n",
    "    last_spoken_number = spoken_numbers[-1]\n",
    "    last_indices[last_spoken_number].append(len(spoken_numbers) - 1)\n",
    "    \n",
    "\n",
    "print(spoken_numbers[-1])"
   ]
  },
  {
   "cell_type": "code",
   "execution_count": null,
   "metadata": {},
   "outputs": [],
   "source": []
  }
 ],
 "metadata": {
  "kernelspec": {
   "display_name": "Python 3",
   "language": "python",
   "name": "python3"
  },
  "language_info": {
   "codemirror_mode": {
    "name": "ipython",
    "version": 3
   },
   "file_extension": ".py",
   "mimetype": "text/x-python",
   "name": "python",
   "nbconvert_exporter": "python",
   "pygments_lexer": "ipython3",
   "version": "3.8.5"
  }
 },
 "nbformat": 4,
 "nbformat_minor": 4
}
